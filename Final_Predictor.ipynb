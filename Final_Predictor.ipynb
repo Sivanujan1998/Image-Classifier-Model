{
 "cells": [
  {
   "cell_type": "code",
   "execution_count": 6,
   "metadata": {},
   "outputs": [
    {
     "name": "stdout",
     "output_type": "stream",
     "text": [
      "(1, 224, 224, 3)\n",
      "1/1 [==============================] - 0s 461ms/step\n",
      "Prediction Label: Sick\n",
      "Sick Probability: 0.9946575\n",
      "Normal Probability: 0.0053424835205078125\n"
     ]
    }
   ],
   "source": [
    "import tensorflow as tf\n",
    "import numpy as np\n",
    "\n",
    "# Importing ImageDataGenerator from TensorFlow Keras for data augmentation during training\n",
    "from tensorflow.keras.preprocessing.image import ImageDataGenerator\n",
    "\n",
    "## Importing the 'image' module from TensorFlow Keras preprocessing for image-related utilities\n",
    "from tensorflow.keras.preprocessing import image\n",
    "\n",
    "\n",
    "# Provide the full path to the model file\n",
    "model_file_path = \"./best_model.h5\"\n",
    "\n",
    "# Load the model from the specified path\n",
    "model = tf.keras.models.load_model(model_file_path)\n",
    "\n",
    "# Define  size\n",
    "image_height = 224\n",
    "image_width = 224\n",
    "\n",
    "\n",
    "img=\"./Sick/C13.jpg\"\n",
    "\n",
    "img = tf.keras.utils.load_img(img, target_size=(image_height,image_width))  # Resize images to 224x224\n",
    "img = tf.keras.preprocessing.image.img_to_array(img)\n",
    "img = tf.keras.applications.mobilenet_v2.preprocess_input(img)\n",
    "img = np.expand_dims(img, axis=0) \n",
    "final_Image_encode=img\n",
    "\n",
    "print(final_Image_encode.shape)\n",
    "\n",
    "predictions = model.predict(final_Image_encode)\n",
    "# Assuming binary classification (Sick vs. Normal)\n",
    "# If the predicted probability is >= 0.5, classify as \"Sick\"; otherwise, classify as \"Normal\"\n",
    "threshold = 0.5\n",
    "if predictions[0][0] >= threshold:\n",
    "    prediction_label = \"Sick\"\n",
    "else:\n",
    "    prediction_label = \"Normal\"\n",
    "\n",
    "# The predicted probability of the \"Sick\" class (label 1)\n",
    "sick_probability = predictions[0][0]\n",
    "\n",
    "# The predicted probability of the \"Normal\" class (label 0)\n",
    "normal_probability = 1 - sick_probability\n",
    "\n",
    "print(\"Prediction Label:\", prediction_label)\n",
    "print(\"Sick Probability:\", sick_probability)\n",
    "print(\"Normal Probability:\", normal_probability)"
   ]
  }
 ],
 "metadata": {
  "kernelspec": {
   "display_name": "base",
   "language": "python",
   "name": "python3"
  },
  "language_info": {
   "codemirror_mode": {
    "name": "ipython",
    "version": 3
   },
   "file_extension": ".py",
   "mimetype": "text/x-python",
   "name": "python",
   "nbconvert_exporter": "python",
   "pygments_lexer": "ipython3",
   "version": "3.11.3"
  },
  "orig_nbformat": 4
 },
 "nbformat": 4,
 "nbformat_minor": 2
}
